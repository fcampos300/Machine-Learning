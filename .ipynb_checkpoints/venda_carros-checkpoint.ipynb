{
 "cells": [
  {
   "cell_type": "code",
   "execution_count": 1,
   "metadata": {},
   "outputs": [],
   "source": [
    "import pandas as pd\n",
    "from datetime import datetime\n",
    "import numpy as np\n",
    "from sklearn.model_selection import train_test_split\n",
    "from sklearn.svm import LinearSVC\n",
    "import seaborn as sns\n",
    "import matplotlib.pyplot as plt"
   ]
  },
  {
   "cell_type": "markdown",
   "metadata": {},
   "source": [
    "<br>\n",
    "<font size=\"4\">\n",
    "O objetivo desse Notebook é criar um modelo de Machine Learning para prever a venda de veículos, baseado no ano do modelo, preço e kilometragem.\n",
    "</font>"
   ]
  },
  {
   "cell_type": "markdown",
   "metadata": {},
   "source": [
    "# Passo 1 - Importar o Dataset"
   ]
  },
  {
   "cell_type": "code",
   "execution_count": 2,
   "metadata": {},
   "outputs": [
    {
     "data": {
      "text/html": [
       "<div>\n",
       "<style scoped>\n",
       "    .dataframe tbody tr th:only-of-type {\n",
       "        vertical-align: middle;\n",
       "    }\n",
       "\n",
       "    .dataframe tbody tr th {\n",
       "        vertical-align: top;\n",
       "    }\n",
       "\n",
       "    .dataframe thead th {\n",
       "        text-align: right;\n",
       "    }\n",
       "</style>\n",
       "<table border=\"1\" class=\"dataframe\">\n",
       "  <thead>\n",
       "    <tr style=\"text-align: right;\">\n",
       "      <th></th>\n",
       "      <th>Unnamed: 0</th>\n",
       "      <th>mileage_per_year</th>\n",
       "      <th>model_year</th>\n",
       "      <th>price</th>\n",
       "      <th>sold</th>\n",
       "    </tr>\n",
       "  </thead>\n",
       "  <tbody>\n",
       "    <tr>\n",
       "      <th>0</th>\n",
       "      <td>0</td>\n",
       "      <td>21801</td>\n",
       "      <td>2000</td>\n",
       "      <td>30941.02</td>\n",
       "      <td>yes</td>\n",
       "    </tr>\n",
       "    <tr>\n",
       "      <th>1</th>\n",
       "      <td>1</td>\n",
       "      <td>7843</td>\n",
       "      <td>1998</td>\n",
       "      <td>40557.96</td>\n",
       "      <td>yes</td>\n",
       "    </tr>\n",
       "    <tr>\n",
       "      <th>2</th>\n",
       "      <td>2</td>\n",
       "      <td>7109</td>\n",
       "      <td>2006</td>\n",
       "      <td>89627.50</td>\n",
       "      <td>no</td>\n",
       "    </tr>\n",
       "    <tr>\n",
       "      <th>3</th>\n",
       "      <td>3</td>\n",
       "      <td>26823</td>\n",
       "      <td>2015</td>\n",
       "      <td>95276.14</td>\n",
       "      <td>no</td>\n",
       "    </tr>\n",
       "    <tr>\n",
       "      <th>4</th>\n",
       "      <td>4</td>\n",
       "      <td>7935</td>\n",
       "      <td>2014</td>\n",
       "      <td>117384.68</td>\n",
       "      <td>yes</td>\n",
       "    </tr>\n",
       "    <tr>\n",
       "      <th>...</th>\n",
       "      <td>...</td>\n",
       "      <td>...</td>\n",
       "      <td>...</td>\n",
       "      <td>...</td>\n",
       "      <td>...</td>\n",
       "    </tr>\n",
       "    <tr>\n",
       "      <th>9995</th>\n",
       "      <td>9995</td>\n",
       "      <td>15572</td>\n",
       "      <td>2006</td>\n",
       "      <td>97112.86</td>\n",
       "      <td>no</td>\n",
       "    </tr>\n",
       "    <tr>\n",
       "      <th>9996</th>\n",
       "      <td>9996</td>\n",
       "      <td>13246</td>\n",
       "      <td>2002</td>\n",
       "      <td>107424.63</td>\n",
       "      <td>yes</td>\n",
       "    </tr>\n",
       "    <tr>\n",
       "      <th>9997</th>\n",
       "      <td>9997</td>\n",
       "      <td>13018</td>\n",
       "      <td>2014</td>\n",
       "      <td>93856.99</td>\n",
       "      <td>no</td>\n",
       "    </tr>\n",
       "    <tr>\n",
       "      <th>9998</th>\n",
       "      <td>9998</td>\n",
       "      <td>10464</td>\n",
       "      <td>2011</td>\n",
       "      <td>51250.57</td>\n",
       "      <td>yes</td>\n",
       "    </tr>\n",
       "    <tr>\n",
       "      <th>9999</th>\n",
       "      <td>9999</td>\n",
       "      <td>12362</td>\n",
       "      <td>1999</td>\n",
       "      <td>87945.73</td>\n",
       "      <td>no</td>\n",
       "    </tr>\n",
       "  </tbody>\n",
       "</table>\n",
       "<p>10000 rows × 5 columns</p>\n",
       "</div>"
      ],
      "text/plain": [
       "      Unnamed: 0  mileage_per_year  model_year      price sold\n",
       "0              0             21801        2000   30941.02  yes\n",
       "1              1              7843        1998   40557.96  yes\n",
       "2              2              7109        2006   89627.50   no\n",
       "3              3             26823        2015   95276.14   no\n",
       "4              4              7935        2014  117384.68  yes\n",
       "...          ...               ...         ...        ...  ...\n",
       "9995        9995             15572        2006   97112.86   no\n",
       "9996        9996             13246        2002  107424.63  yes\n",
       "9997        9997             13018        2014   93856.99   no\n",
       "9998        9998             10464        2011   51250.57  yes\n",
       "9999        9999             12362        1999   87945.73   no\n",
       "\n",
       "[10000 rows x 5 columns]"
      ]
     },
     "execution_count": 2,
     "metadata": {},
     "output_type": "execute_result"
    }
   ],
   "source": [
    "dataset = \"Dataset/car-prices.csv\"\n",
    "df = pd.read_csv(dataset)\n",
    "df"
   ]
  },
  {
   "cell_type": "markdown",
   "metadata": {},
   "source": [
    "# Passo 2 - Tratamento dos dados\n",
    "\n",
    "O tratamento será feito na seguinte ordem:\n",
    "<ul>\n",
    "    <li>Renomear as colunas do DF para PT-BR, de acordo com a variável map_columns criada abaixo;</li>\n",
    "    <li>Converter os valores da coluna <b>\"vendido\"</b> (sim e não) para 0 e 1;</li>\n",
    "    <li>Criar a coluna idade do modelo, utilizando a coluna <b>\"ano_do_modelo\"</b> e o ano atual. Para isso é necessário importar a função datetime do módulo datetime, e chamar a função today(), que retorna a data de hoje, e em seguida, usar o atributo year, que corresponde ao ano atual;</li>\n",
    "    <li>Criar a coluna Km<b>, utilizando a coluna \"milhas_por_ano\"</b>. Para ter a quilometragem total do veículo, é preciso, primeiramente, converter milhas para quilômetros (taxa de conversão é de 1.60934) e depois multiplicar pelo total de anos do veículo;</li>\n",
    "    <li>Deletar as colunas que não serão usadas no modelo;</li>\n",
    "</ul>"
   ]
  },
  {
   "cell_type": "code",
   "execution_count": 3,
   "metadata": {},
   "outputs": [
    {
     "data": {
      "text/html": [
       "<div>\n",
       "<style scoped>\n",
       "    .dataframe tbody tr th:only-of-type {\n",
       "        vertical-align: middle;\n",
       "    }\n",
       "\n",
       "    .dataframe tbody tr th {\n",
       "        vertical-align: top;\n",
       "    }\n",
       "\n",
       "    .dataframe thead th {\n",
       "        text-align: right;\n",
       "    }\n",
       "</style>\n",
       "<table border=\"1\" class=\"dataframe\">\n",
       "  <thead>\n",
       "    <tr style=\"text-align: right;\">\n",
       "      <th></th>\n",
       "      <th>Unnamed: 0</th>\n",
       "      <th>milhas_por_ano</th>\n",
       "      <th>ano_do_modelo</th>\n",
       "      <th>preco</th>\n",
       "      <th>vendido</th>\n",
       "    </tr>\n",
       "  </thead>\n",
       "  <tbody>\n",
       "    <tr>\n",
       "      <th>0</th>\n",
       "      <td>0</td>\n",
       "      <td>21801</td>\n",
       "      <td>2000</td>\n",
       "      <td>30941.02</td>\n",
       "      <td>1</td>\n",
       "    </tr>\n",
       "    <tr>\n",
       "      <th>1</th>\n",
       "      <td>1</td>\n",
       "      <td>7843</td>\n",
       "      <td>1998</td>\n",
       "      <td>40557.96</td>\n",
       "      <td>1</td>\n",
       "    </tr>\n",
       "    <tr>\n",
       "      <th>2</th>\n",
       "      <td>2</td>\n",
       "      <td>7109</td>\n",
       "      <td>2006</td>\n",
       "      <td>89627.50</td>\n",
       "      <td>0</td>\n",
       "    </tr>\n",
       "    <tr>\n",
       "      <th>3</th>\n",
       "      <td>3</td>\n",
       "      <td>26823</td>\n",
       "      <td>2015</td>\n",
       "      <td>95276.14</td>\n",
       "      <td>0</td>\n",
       "    </tr>\n",
       "    <tr>\n",
       "      <th>4</th>\n",
       "      <td>4</td>\n",
       "      <td>7935</td>\n",
       "      <td>2014</td>\n",
       "      <td>117384.68</td>\n",
       "      <td>1</td>\n",
       "    </tr>\n",
       "  </tbody>\n",
       "</table>\n",
       "</div>"
      ],
      "text/plain": [
       "   Unnamed: 0  milhas_por_ano  ano_do_modelo      preco  vendido\n",
       "0           0           21801           2000   30941.02        1\n",
       "1           1            7843           1998   40557.96        1\n",
       "2           2            7109           2006   89627.50        0\n",
       "3           3           26823           2015   95276.14        0\n",
       "4           4            7935           2014  117384.68        1"
      ]
     },
     "execution_count": 3,
     "metadata": {},
     "output_type": "execute_result"
    }
   ],
   "source": [
    "map_columns = { \n",
    "    'mileage_per_year' : 'milhas_por_ano',\n",
    "    'model_year' : 'ano_do_modelo',\n",
    "    'price' : 'preco',\n",
    "    'sold' :'vendido'\n",
    "}\n",
    "\n",
    "map_sold = {\n",
    "   'yes': 1,\n",
    "   'no': 0\n",
    "}\n",
    "\n",
    "df = df.rename(columns=map_columns)\n",
    "df.vendido = df.vendido.map(map_sold)\n",
    "df.head()"
   ]
  },
  {
   "cell_type": "code",
   "execution_count": 4,
   "metadata": {},
   "outputs": [
    {
     "data": {
      "text/html": [
       "<div>\n",
       "<style scoped>\n",
       "    .dataframe tbody tr th:only-of-type {\n",
       "        vertical-align: middle;\n",
       "    }\n",
       "\n",
       "    .dataframe tbody tr th {\n",
       "        vertical-align: top;\n",
       "    }\n",
       "\n",
       "    .dataframe thead th {\n",
       "        text-align: right;\n",
       "    }\n",
       "</style>\n",
       "<table border=\"1\" class=\"dataframe\">\n",
       "  <thead>\n",
       "    <tr style=\"text-align: right;\">\n",
       "      <th></th>\n",
       "      <th>Unnamed: 0</th>\n",
       "      <th>milhas_por_ano</th>\n",
       "      <th>ano_do_modelo</th>\n",
       "      <th>preco</th>\n",
       "      <th>vendido</th>\n",
       "      <th>idade_do_modelo</th>\n",
       "    </tr>\n",
       "  </thead>\n",
       "  <tbody>\n",
       "    <tr>\n",
       "      <th>0</th>\n",
       "      <td>0</td>\n",
       "      <td>21801</td>\n",
       "      <td>2000</td>\n",
       "      <td>30941.02</td>\n",
       "      <td>1</td>\n",
       "      <td>20</td>\n",
       "    </tr>\n",
       "    <tr>\n",
       "      <th>1</th>\n",
       "      <td>1</td>\n",
       "      <td>7843</td>\n",
       "      <td>1998</td>\n",
       "      <td>40557.96</td>\n",
       "      <td>1</td>\n",
       "      <td>22</td>\n",
       "    </tr>\n",
       "    <tr>\n",
       "      <th>2</th>\n",
       "      <td>2</td>\n",
       "      <td>7109</td>\n",
       "      <td>2006</td>\n",
       "      <td>89627.50</td>\n",
       "      <td>0</td>\n",
       "      <td>14</td>\n",
       "    </tr>\n",
       "    <tr>\n",
       "      <th>3</th>\n",
       "      <td>3</td>\n",
       "      <td>26823</td>\n",
       "      <td>2015</td>\n",
       "      <td>95276.14</td>\n",
       "      <td>0</td>\n",
       "      <td>5</td>\n",
       "    </tr>\n",
       "    <tr>\n",
       "      <th>4</th>\n",
       "      <td>4</td>\n",
       "      <td>7935</td>\n",
       "      <td>2014</td>\n",
       "      <td>117384.68</td>\n",
       "      <td>1</td>\n",
       "      <td>6</td>\n",
       "    </tr>\n",
       "  </tbody>\n",
       "</table>\n",
       "</div>"
      ],
      "text/plain": [
       "   Unnamed: 0  milhas_por_ano  ano_do_modelo      preco  vendido  \\\n",
       "0           0           21801           2000   30941.02        1   \n",
       "1           1            7843           1998   40557.96        1   \n",
       "2           2            7109           2006   89627.50        0   \n",
       "3           3           26823           2015   95276.14        0   \n",
       "4           4            7935           2014  117384.68        1   \n",
       "\n",
       "   idade_do_modelo  \n",
       "0               20  \n",
       "1               22  \n",
       "2               14  \n",
       "3                5  \n",
       "4                6  "
      ]
     },
     "execution_count": 4,
     "metadata": {},
     "output_type": "execute_result"
    }
   ],
   "source": [
    "ano_atual = datetime.today().year\n",
    "df['idade_do_modelo'] = ano_atual - df.ano_do_modelo\n",
    "df.head()"
   ]
  },
  {
   "cell_type": "code",
   "execution_count": 5,
   "metadata": {},
   "outputs": [
    {
     "data": {
      "text/html": [
       "<div>\n",
       "<style scoped>\n",
       "    .dataframe tbody tr th:only-of-type {\n",
       "        vertical-align: middle;\n",
       "    }\n",
       "\n",
       "    .dataframe tbody tr th {\n",
       "        vertical-align: top;\n",
       "    }\n",
       "\n",
       "    .dataframe thead th {\n",
       "        text-align: right;\n",
       "    }\n",
       "</style>\n",
       "<table border=\"1\" class=\"dataframe\">\n",
       "  <thead>\n",
       "    <tr style=\"text-align: right;\">\n",
       "      <th></th>\n",
       "      <th>Unnamed: 0</th>\n",
       "      <th>milhas_por_ano</th>\n",
       "      <th>ano_do_modelo</th>\n",
       "      <th>preco</th>\n",
       "      <th>vendido</th>\n",
       "      <th>idade_do_modelo</th>\n",
       "      <th>km</th>\n",
       "    </tr>\n",
       "  </thead>\n",
       "  <tbody>\n",
       "    <tr>\n",
       "      <th>0</th>\n",
       "      <td>0</td>\n",
       "      <td>21801</td>\n",
       "      <td>2000</td>\n",
       "      <td>30941.02</td>\n",
       "      <td>1</td>\n",
       "      <td>20</td>\n",
       "      <td>701704.42680</td>\n",
       "    </tr>\n",
       "    <tr>\n",
       "      <th>1</th>\n",
       "      <td>1</td>\n",
       "      <td>7843</td>\n",
       "      <td>1998</td>\n",
       "      <td>40557.96</td>\n",
       "      <td>1</td>\n",
       "      <td>22</td>\n",
       "      <td>277685.17964</td>\n",
       "    </tr>\n",
       "    <tr>\n",
       "      <th>2</th>\n",
       "      <td>2</td>\n",
       "      <td>7109</td>\n",
       "      <td>2006</td>\n",
       "      <td>89627.50</td>\n",
       "      <td>0</td>\n",
       "      <td>14</td>\n",
       "      <td>160171.17284</td>\n",
       "    </tr>\n",
       "    <tr>\n",
       "      <th>3</th>\n",
       "      <td>3</td>\n",
       "      <td>26823</td>\n",
       "      <td>2015</td>\n",
       "      <td>95276.14</td>\n",
       "      <td>0</td>\n",
       "      <td>5</td>\n",
       "      <td>215836.63410</td>\n",
       "    </tr>\n",
       "    <tr>\n",
       "      <th>4</th>\n",
       "      <td>4</td>\n",
       "      <td>7935</td>\n",
       "      <td>2014</td>\n",
       "      <td>117384.68</td>\n",
       "      <td>1</td>\n",
       "      <td>6</td>\n",
       "      <td>76620.67740</td>\n",
       "    </tr>\n",
       "  </tbody>\n",
       "</table>\n",
       "</div>"
      ],
      "text/plain": [
       "   Unnamed: 0  milhas_por_ano  ano_do_modelo      preco  vendido  \\\n",
       "0           0           21801           2000   30941.02        1   \n",
       "1           1            7843           1998   40557.96        1   \n",
       "2           2            7109           2006   89627.50        0   \n",
       "3           3           26823           2015   95276.14        0   \n",
       "4           4            7935           2014  117384.68        1   \n",
       "\n",
       "   idade_do_modelo            km  \n",
       "0               20  701704.42680  \n",
       "1               22  277685.17964  \n",
       "2               14  160171.17284  \n",
       "3                5  215836.63410  \n",
       "4                6   76620.67740  "
      ]
     },
     "execution_count": 5,
     "metadata": {},
     "output_type": "execute_result"
    }
   ],
   "source": [
    "df['km'] = (df.milhas_por_ano * 1.60934) * df.idade_do_modelo\n",
    "df.head()"
   ]
  },
  {
   "cell_type": "code",
   "execution_count": 6,
   "metadata": {},
   "outputs": [
    {
     "data": {
      "text/html": [
       "<div>\n",
       "<style scoped>\n",
       "    .dataframe tbody tr th:only-of-type {\n",
       "        vertical-align: middle;\n",
       "    }\n",
       "\n",
       "    .dataframe tbody tr th {\n",
       "        vertical-align: top;\n",
       "    }\n",
       "\n",
       "    .dataframe thead th {\n",
       "        text-align: right;\n",
       "    }\n",
       "</style>\n",
       "<table border=\"1\" class=\"dataframe\">\n",
       "  <thead>\n",
       "    <tr style=\"text-align: right;\">\n",
       "      <th></th>\n",
       "      <th>preco</th>\n",
       "      <th>vendido</th>\n",
       "      <th>idade_do_modelo</th>\n",
       "      <th>km</th>\n",
       "    </tr>\n",
       "  </thead>\n",
       "  <tbody>\n",
       "    <tr>\n",
       "      <th>0</th>\n",
       "      <td>30941.02</td>\n",
       "      <td>1</td>\n",
       "      <td>20</td>\n",
       "      <td>701704.42680</td>\n",
       "    </tr>\n",
       "    <tr>\n",
       "      <th>1</th>\n",
       "      <td>40557.96</td>\n",
       "      <td>1</td>\n",
       "      <td>22</td>\n",
       "      <td>277685.17964</td>\n",
       "    </tr>\n",
       "    <tr>\n",
       "      <th>2</th>\n",
       "      <td>89627.50</td>\n",
       "      <td>0</td>\n",
       "      <td>14</td>\n",
       "      <td>160171.17284</td>\n",
       "    </tr>\n",
       "    <tr>\n",
       "      <th>3</th>\n",
       "      <td>95276.14</td>\n",
       "      <td>0</td>\n",
       "      <td>5</td>\n",
       "      <td>215836.63410</td>\n",
       "    </tr>\n",
       "    <tr>\n",
       "      <th>4</th>\n",
       "      <td>117384.68</td>\n",
       "      <td>1</td>\n",
       "      <td>6</td>\n",
       "      <td>76620.67740</td>\n",
       "    </tr>\n",
       "  </tbody>\n",
       "</table>\n",
       "</div>"
      ],
      "text/plain": [
       "       preco  vendido  idade_do_modelo            km\n",
       "0   30941.02        1               20  701704.42680\n",
       "1   40557.96        1               22  277685.17964\n",
       "2   89627.50        0               14  160171.17284\n",
       "3   95276.14        0                5  215836.63410\n",
       "4  117384.68        1                6   76620.67740"
      ]
     },
     "execution_count": 6,
     "metadata": {},
     "output_type": "execute_result"
    }
   ],
   "source": [
    "df = df.drop(columns = [\"Unnamed: 0\", \"milhas_por_ano\", \"ano_do_modelo\"], axis=1)\n",
    "df.head()"
   ]
  },
  {
   "cell_type": "markdown",
   "metadata": {},
   "source": [
    "# Passo 3 - Classificar os dados de treino e teste, treinar os dados e definir um baseline mínimo aceitável do modelo"
   ]
  },
  {
   "cell_type": "markdown",
   "metadata": {},
   "source": [
    "Primeiramente, é necessário separar o <b>\"X\"</b> (as colunas que representam as features) e o <b>\"Y\"</b> (se o carro foi vendido ou não):"
   ]
  },
  {
   "cell_type": "code",
   "execution_count": 7,
   "metadata": {},
   "outputs": [],
   "source": [
    "x = df[[\"preco\", \"idade_do_modelo\", \"km\"]]\n",
    "y = df[\"vendido\"]"
   ]
  },
  {
   "cell_type": "markdown",
   "metadata": {},
   "source": [
    "Agora vamos utilizar a função <b>train_test_split()</b> do módulo <b>sklearn</b> para treinar os dados e exibir a quantidade de elementos que foram treinados e testados:"
   ]
  },
  {
   "cell_type": "code",
   "execution_count": 8,
   "metadata": {},
   "outputs": [
    {
     "name": "stdout",
     "output_type": "stream",
     "text": [
      "O modelo foi treinado com 7500 elementos e testado com 2500 elementos\n"
     ]
    }
   ],
   "source": [
    "treino_x, teste_x, treino_y, teste_y = train_test_split(x, \n",
    "                                                        y, \n",
    "                                                        test_size = 0.25,\n",
    "                                                        stratify = y)\n",
    "print(\"O modelo foi treinado com %d elementos e testado com %d elementos\" % (len(treino_x), len(teste_x)))"
   ]
  },
  {
   "cell_type": "markdown",
   "metadata": {},
   "source": [
    "<br>\n",
    "Com o X e o Y de treino e teste definidos, o próximo passo é encontrar um baseline mínimo de reposta que aceitaremos nos modelos.\n",
    "<br><br>\n",
    "Para isso, o módulo <b>sklearn</b>, possui um estimador conhecido como <b>DummyClassifier</b>.<br>\n",
    "Com ele podemos criar um baseline para o nosso modelo, porém, antes precisamos definir qual estratégia será utilizada. Vamos fazer um teste com as 3 estratégias principais para decidir qual usar."
   ]
  },
  {
   "cell_type": "code",
   "execution_count": 9,
   "metadata": {},
   "outputs": [
    {
     "data": {
      "image/png": "[encoded data removed]",
      "text/plain": [
       "<Figure size 432x288 with 1 Axes>"
      ]
     },
     "metadata": {
      "needs_background": "light"
     },
     "output_type": "display_data"
    }
   ],
   "source": [
    "from sklearn.dummy import DummyClassifier\n",
    "\n",
    "strategias = ['most_frequent', 'stratified', 'uniform']\n",
    "np.random.seed(30)  # Define o random_statement do algoritmo pelo numpy.\n",
    "\n",
    "test_scores = [] \n",
    "for s in strategias: \n",
    "    dummy = DummyClassifier(strategy = s, random_state = 30) \n",
    "    dummy.fit(treino_x, treino_y) \n",
    "    score = dummy.score(teste_x, teste_y) \n",
    "    test_scores.append(score) \n",
    "\n",
    "ax = sns.stripplot(strategias, test_scores); \n",
    "ax.set(xlabel ='Estratégia', \n",
    "       ylabel ='Acurácia alcançada') \n",
    "plt.show() "
   ]
  },
  {
   "cell_type": "markdown",
   "metadata": {},
   "source": [
    "O gráfico acima mostra o percentual das 3 estratégias escolhidas. Reparem que a estratégia <b>most_frequent</b> se destaca das outras duas, com um valor de proximadamente <b>7</b> pontos percentuais a mais.\n",
    "\n",
    "Vamos utilizá-la como o baseline!"
   ]
  },
  {
   "cell_type": "code",
   "execution_count": 10,
   "metadata": {},
   "outputs": [
    {
     "name": "stdout",
     "output_type": "stream",
     "text": [
      "A acurácia do baseline é de 58.00%\n"
     ]
    }
   ],
   "source": [
    "print(\"A acurácia do baseline é de %.2f%%\" % (test_scores[0] * 100))"
   ]
  },
  {
   "cell_type": "markdown",
   "metadata": {},
   "source": [
    "# Passo 4 - Aplicar os Algoritmos de Machine Learning"
   ]
  },
  {
   "cell_type": "code",
   "execution_count": 11,
   "metadata": {},
   "outputs": [],
   "source": [
    "modelos = list()\n",
    "acuracias = list()"
   ]
  },
  {
   "cell_type": "markdown",
   "metadata": {},
   "source": [
    "Modelo <b>LinearSVC</b>"
   ]
  },
  {
   "cell_type": "code",
   "execution_count": 12,
   "metadata": {},
   "outputs": [
    {
     "name": "stdout",
     "output_type": "stream",
     "text": [
      "A acurácia do modelo foi de 58.12%\n"
     ]
    }
   ],
   "source": [
    "np.random.seed(30)  # Define o random_statement do algoritmo pelo numpy.\n",
    "\n",
    "modelo_lsvc = LinearSVC(dual=False)\n",
    "modelo_lsvc.fit(treino_x, treino_y)\n",
    "acuracia_lsvc = modelo_lsvc.score(teste_x, teste_y) * 100\n",
    "\n",
    "modelos.append('LinearSVC')\n",
    "acuracias.append(acuracia_lsvc)\n",
    "\n",
    "print(\"A acurácia do modelo foi de %.2f%%\" % acuracia_lsvc)"
   ]
  },
  {
   "cell_type": "markdown",
   "metadata": {},
   "source": [
    "Modelo <b>KNeighborsClassifier</b>"
   ]
  },
  {
   "cell_type": "code",
   "execution_count": 13,
   "metadata": {},
   "outputs": [
    {
     "name": "stdout",
     "output_type": "stream",
     "text": [
      "A acurácia do modelo foi de 73.16%\n"
     ]
    }
   ],
   "source": [
    "from sklearn.neighbors import KNeighborsClassifier\n",
    "\n",
    "modelo_knc = KNeighborsClassifier(n_neighbors = 5) \n",
    "modelo_knc.fit(treino_x, treino_y) \n",
    "acuracia_knc = modelo_knc.score(teste_x, teste_y) * 100\n",
    "\n",
    "modelos.append('KNeighborsClassifier')\n",
    "acuracias.append(acuracia_knc)\n",
    "\n",
    "print(\"A acurácia do modelo foi de %.2f%%\" % acuracia_knc)"
   ]
  },
  {
   "cell_type": "markdown",
   "metadata": {},
   "source": [
    "Modelo <b>SVC</b>"
   ]
  },
  {
   "cell_type": "code",
   "execution_count": 14,
   "metadata": {},
   "outputs": [
    {
     "name": "stdout",
     "output_type": "stream",
     "text": [
      "A acurácia do modelo foi de 76.04%\n"
     ]
    }
   ],
   "source": [
    "from sklearn.preprocessing import StandardScaler\n",
    "from sklearn.svm import SVC\n",
    "\n",
    "np.random.seed(30)  # Define o random_statement do algoritmo pelo numpy.\n",
    "\n",
    "scaler = StandardScaler()\n",
    "scaler.fit(treino_x)\n",
    "treino_x_scaled = scaler.transform(treino_x)\n",
    "teste_x_scaled = scaler.transform(teste_x)\n",
    "\n",
    "modelo_svc = SVC()\n",
    "modelo_svc.fit(treino_x_scaled, treino_y)\n",
    "acuracia_svc = modelo_svc.score(teste_x_scaled, teste_y) * 100\n",
    "\n",
    "modelos.append('SVC')\n",
    "acuracias.append(acuracia_svc)\n",
    "\n",
    "print(\"A acurácia do modelo foi de %.2f%%\" % acuracia_svc)"
   ]
  },
  {
   "cell_type": "markdown",
   "metadata": {},
   "source": [
    "Modelo <b>DecisionTreeClassifier</b>"
   ]
  },
  {
   "cell_type": "code",
   "execution_count": 15,
   "metadata": {},
   "outputs": [
    {
     "name": "stdout",
     "output_type": "stream",
     "text": [
      "A acurácia do modelo foi de 77.16%\n"
     ]
    }
   ],
   "source": [
    "from sklearn.tree import DecisionTreeClassifier\n",
    "\n",
    "np.random.seed(30)  # Define o random_statement do algoritmo pelo numpy.\n",
    "\n",
    "modelo_dtc = DecisionTreeClassifier(max_depth=3)\n",
    "modelo_dtc.fit(treino_x, treino_y)\n",
    "acuracia_dtc = modelo_dtc.score(teste_x, teste_y) * 100\n",
    "\n",
    "modelos.append('DecisionTreeClassifier')\n",
    "acuracias.append(acuracia_dtc)\n",
    "\n",
    "print(\"A acurácia do modelo foi de %.2f%%\" % acuracia_dtc)"
   ]
  },
  {
   "cell_type": "markdown",
   "metadata": {},
   "source": [
    "Agora vamos verificar o resultado de cada modelo e decidir qual será aplicado nas previsões de venda."
   ]
  },
  {
   "cell_type": "code",
   "execution_count": 16,
   "metadata": {},
   "outputs": [
    {
     "data": {
      "image/png": "[encoded data removed]",
      "text/plain": [
       "<Figure size 432x288 with 1 Axes>"
      ]
     },
     "metadata": {
      "needs_background": "light"
     },
     "output_type": "display_data"
    }
   ],
   "source": [
    "ax = sns.stripplot(modelos, \n",
    "                   acuracias); \n",
    "\n",
    "ax.set(xlabel ='Modelos', \n",
    "       ylabel ='Acurácia') \n",
    "\n",
    "plt.show() "
   ]
  },
  {
   "cell_type": "markdown",
   "metadata": {},
   "source": [
    "Olhando o gráfico acima, fica fácil escolher o modelo.\n",
    "\n",
    "A partir de agora, vamos utilizar o <b>DecisionTreeClassifier</b>"
   ]
  },
  {
   "cell_type": "markdown",
   "metadata": {},
   "source": [
    "# Previsões de Venda"
   ]
  },
  {
   "cell_type": "code",
   "execution_count": 17,
   "metadata": {},
   "outputs": [],
   "source": [
    "map_previsao = {\n",
    "    0: 'É provável que esse carro não seja vendido :(',\n",
    "    1: 'É provável que esse carro seja vendido :)',\n",
    "}"
   ]
  },
  {
   "cell_type": "markdown",
   "metadata": {},
   "source": [
    "Valor do Carro: <b>85000</b><br>\n",
    "Idade do Carro: <b>18 anos</b><br>\n",
    "Quilometragem: <b>200000</b>"
   ]
  },
  {
   "cell_type": "code",
   "execution_count": 18,
   "metadata": {},
   "outputs": [
    {
     "name": "stdout",
     "output_type": "stream",
     "text": [
      "É provável que esse carro não seja vendido :(\n"
     ]
    }
   ],
   "source": [
    "carro = [[85000, 18, 200000]]\n",
    "previsao_venda = modelo_dtc.predict(carro)\n",
    "print(map_previsao[previsao_venda[0]])"
   ]
  },
  {
   "cell_type": "markdown",
   "metadata": {},
   "source": [
    "Valor do Carro: <b>35000</b><br>\n",
    "Idade do Carro: <b>18 anos</b><br>\n",
    "Quilometragem: <b>200000</b>"
   ]
  },
  {
   "cell_type": "code",
   "execution_count": 19,
   "metadata": {},
   "outputs": [
    {
     "name": "stdout",
     "output_type": "stream",
     "text": [
      "É provável que esse carro seja vendido :)\n"
     ]
    }
   ],
   "source": [
    "carro = [[35000, 18, 200000]]\n",
    "previsao_venda = modelo_dtc.predict(carro)\n",
    "print(map_previsao[previsao_venda[0]])"
   ]
  },
  {
   "cell_type": "markdown",
   "metadata": {},
   "source": [
    "Valor do Carro: <b>95000</b><br>\n",
    "Idade do Carro: <b>15 anos</b><br>\n",
    "Quilometragem: <b>750000</b>"
   ]
  },
  {
   "cell_type": "code",
   "execution_count": 20,
   "metadata": {},
   "outputs": [
    {
     "name": "stdout",
     "output_type": "stream",
     "text": [
      "É provável que esse carro não seja vendido :(\n"
     ]
    }
   ],
   "source": [
    "carro = [[95000, 15, 750000]]\n",
    "previsao_venda = modelo_dtc.predict(carro)\n",
    "print(map_previsao[previsao_venda[0]])"
   ]
  },
  {
   "cell_type": "markdown",
   "metadata": {},
   "source": [
    "Valor do Carro: <b>23000</b><br>\n",
    "Idade do Carro: <b>22 anos</b><br>\n",
    "Quilometragem: <b>990000</b>"
   ]
  },
  {
   "cell_type": "code",
   "execution_count": 21,
   "metadata": {},
   "outputs": [
    {
     "name": "stdout",
     "output_type": "stream",
     "text": [
      "É provável que esse carro seja vendido :)\n"
     ]
    }
   ],
   "source": [
    "carro = [[23000, 22, 990000]]\n",
    "previsao_venda = modelo_dtc.predict(carro)\n",
    "print(map_previsao[previsao_venda[0]])"
   ]
  },
  {
   "cell_type": "markdown",
   "metadata": {},
   "source": [
    "Vamos fazer diferente agora e perdir que o algoritmo sugira o preço do carro baseado nas colunas <b>vendido</b>, <b>idade_do_modelo</b> e <b>km</b>."
   ]
  },
  {
   "cell_type": "code",
   "execution_count": 22,
   "metadata": {},
   "outputs": [
    {
     "data": {
      "text/html": [
       "<div>\n",
       "<style scoped>\n",
       "    .dataframe tbody tr th:only-of-type {\n",
       "        vertical-align: middle;\n",
       "    }\n",
       "\n",
       "    .dataframe tbody tr th {\n",
       "        vertical-align: top;\n",
       "    }\n",
       "\n",
       "    .dataframe thead th {\n",
       "        text-align: right;\n",
       "    }\n",
       "</style>\n",
       "<table border=\"1\" class=\"dataframe\">\n",
       "  <thead>\n",
       "    <tr style=\"text-align: right;\">\n",
       "      <th></th>\n",
       "      <th>preco</th>\n",
       "      <th>vendido</th>\n",
       "      <th>idade_do_modelo</th>\n",
       "      <th>km</th>\n",
       "    </tr>\n",
       "  </thead>\n",
       "  <tbody>\n",
       "    <tr>\n",
       "      <th>0</th>\n",
       "      <td>30941</td>\n",
       "      <td>1</td>\n",
       "      <td>20</td>\n",
       "      <td>701704.42680</td>\n",
       "    </tr>\n",
       "    <tr>\n",
       "      <th>1</th>\n",
       "      <td>40557</td>\n",
       "      <td>1</td>\n",
       "      <td>22</td>\n",
       "      <td>277685.17964</td>\n",
       "    </tr>\n",
       "    <tr>\n",
       "      <th>2</th>\n",
       "      <td>89627</td>\n",
       "      <td>0</td>\n",
       "      <td>14</td>\n",
       "      <td>160171.17284</td>\n",
       "    </tr>\n",
       "    <tr>\n",
       "      <th>3</th>\n",
       "      <td>95276</td>\n",
       "      <td>0</td>\n",
       "      <td>5</td>\n",
       "      <td>215836.63410</td>\n",
       "    </tr>\n",
       "    <tr>\n",
       "      <th>4</th>\n",
       "      <td>117384</td>\n",
       "      <td>1</td>\n",
       "      <td>6</td>\n",
       "      <td>76620.67740</td>\n",
       "    </tr>\n",
       "  </tbody>\n",
       "</table>\n",
       "</div>"
      ],
      "text/plain": [
       "    preco  vendido  idade_do_modelo            km\n",
       "0   30941        1               20  701704.42680\n",
       "1   40557        1               22  277685.17964\n",
       "2   89627        0               14  160171.17284\n",
       "3   95276        0                5  215836.63410\n",
       "4  117384        1                6   76620.67740"
      ]
     },
     "execution_count": 22,
     "metadata": {},
     "output_type": "execute_result"
    }
   ],
   "source": [
    "df2 = df.copy()\n",
    "df2 = df2.astype({'preco': 'int'})\n",
    "df2.head()"
   ]
  },
  {
   "cell_type": "code",
   "execution_count": 23,
   "metadata": {},
   "outputs": [],
   "source": [
    "x2 = df2[[\"vendido\", \"idade_do_modelo\", \"km\"]]\n",
    "y2 = df2[\"preco\"]"
   ]
  },
  {
   "cell_type": "code",
   "execution_count": 24,
   "metadata": {},
   "outputs": [
    {
     "name": "stdout",
     "output_type": "stream",
     "text": [
      "Treinaremos com 7500 elementos e testaremos com 2500 elementos\n"
     ]
    }
   ],
   "source": [
    "np.random.seed(30)\n",
    "treino_x2, teste_x2, treino_y2, teste_y2 = train_test_split(x2, \n",
    "                                                            y2, \n",
    "                                                            test_size = 0.25,\n",
    "                                                            random_state=30,\n",
    "                                                            stratify = y)\n",
    "\n",
    "print(\"Treinaremos com %d elementos e testaremos com %d elementos\" % (len(treino_x2), len(teste_x)))"
   ]
  },
  {
   "cell_type": "code",
   "execution_count": 25,
   "metadata": {},
   "outputs": [
    {
     "data": {
      "text/plain": [
       "DecisionTreeClassifier(ccp_alpha=0.0, class_weight=None, criterion='gini',\n",
       "                       max_depth=6, max_features=None, max_leaf_nodes=None,\n",
       "                       min_impurity_decrease=0.0, min_impurity_split=None,\n",
       "                       min_samples_leaf=1, min_samples_split=2,\n",
       "                       min_weight_fraction_leaf=0.0, presort='deprecated',\n",
       "                       random_state=None, splitter='best')"
      ]
     },
     "execution_count": 25,
     "metadata": {},
     "output_type": "execute_result"
    }
   ],
   "source": [
    "np.random.seed(30)  # Define o random_statement do algoritmo pelo numpy.\n",
    "\n",
    "modelo_knc2 = DecisionTreeClassifier(max_depth=6) \n",
    "modelo_knc2.fit(treino_x2, treino_y2) "
   ]
  },
  {
   "cell_type": "code",
   "execution_count": 26,
   "metadata": {},
   "outputs": [
    {
     "name": "stdout",
     "output_type": "stream",
     "text": [
      "Provavelmente esse carro será vendido com um valor de: 8667\n"
     ]
    }
   ],
   "source": [
    "carro = [[1, 22, 988815]]\n",
    "previsao_venda = modelo_knc2.predict(carro)\n",
    "print(f\"Provavelmente esse carro será vendido com um valor de: {previsao_venda[0]}\")"
   ]
  },
  {
   "cell_type": "code",
   "execution_count": 27,
   "metadata": {},
   "outputs": [
    {
     "name": "stdout",
     "output_type": "stream",
     "text": [
      "Provavelmente esse carro será vendido com um valor de: 18460\n"
     ]
    }
   ],
   "source": [
    "carro = [[1, 11, 450000]]\n",
    "previsao_venda = modelo_knc2.predict(carro)\n",
    "print(f\"Provavelmente esse carro será vendido com um valor de: {previsao_venda[0]}\")"
   ]
  },
  {
   "cell_type": "code",
   "execution_count": 28,
   "metadata": {},
   "outputs": [
    {
     "name": "stdout",
     "output_type": "stream",
     "text": [
      "Provavelmente esse carro será vendido com um valor de: 40774\n"
     ]
    }
   ],
   "source": [
    "carro = [[1, 6, 196000]]\n",
    "previsao_venda = modelo_knc2.predict(carro)\n",
    "print(f\"Provavelmente esse carro será vendido com um valor de: {previsao_venda[0]}\")"
   ]
  },
  {
   "cell_type": "code",
   "execution_count": 29,
   "metadata": {},
   "outputs": [
    {
     "name": "stdout",
     "output_type": "stream",
     "text": [
      "Provavelmente esse carro será vendido com um valor de: 83143\n"
     ]
    }
   ],
   "source": [
    "carro = [[1, 4, 56000]]\n",
    "previsao_venda = modelo_knc2.predict(carro)\n",
    "print(f\"Provavelmente esse carro será vendido com um valor de: {previsao_venda[0]}\")"
   ]
  },
  {
   "cell_type": "code",
   "execution_count": 30,
   "metadata": {},
   "outputs": [
    {
     "name": "stdout",
     "output_type": "stream",
     "text": [
      "Provavelmente esse carro será vendido com um valor de: 83143\n"
     ]
    }
   ],
   "source": [
    "carro = [[1, 1, 5000]]\n",
    "previsao_venda = modelo_knc2.predict(carro)\n",
    "print(f\"Provavelmente esse carro será vendido com um valor de: {previsao_venda[0]}\")"
   ]
  },
  {
   "cell_type": "markdown",
   "metadata": {},
   "source": [
    "Reparem que nessa abordagem o algoritmo não é tão preciso. Isso acontece por que a base de dados com valores de venda é pequena. Para melhorar o resultado, precisamos de mais dados históricos, porém, a lógica permace sendo a mesma."
   ]
  },
  {
   "cell_type": "code",
   "execution_count": null,
   "metadata": {},
   "outputs": [],
   "source": []
  }
 ],
 "metadata": {
  "kernelspec": {
   "display_name": "Python 3",
   "language": "python",
   "name": "python3"
  },
  "language_info": {
   "codemirror_mode": {
    "name": "ipython",
    "version": 3
   },
   "file_extension": ".py",
   "mimetype": "text/x-python",
   "name": "python",
   "nbconvert_exporter": "python",
   "pygments_lexer": "ipython3",
   "version": "3.7.6"
  }
 },
 "nbformat": 4,
 "nbformat_minor": 4
}
